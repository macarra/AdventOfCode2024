{
  "cells": [
    {
      "cell_type": "markdown",
      "metadata": {
        "id": "view-in-github",
        "colab_type": "text"
      },
      "source": [
        "<a href=\"https://colab.research.google.com/github/macarra/AdventOfCode2024/blob/main/Advent1.ipynb\" target=\"_parent\"><img src=\"https://colab.research.google.com/assets/colab-badge.svg\" alt=\"Open In Colab\"/></a>"
      ]
    },
    {
      "cell_type": "code",
      "source": [
        "import os\n",
        "if not os.path.exists(\"AdventOfCode2024\"):\n",
        "    !git clone https://github.com/macarra/AdventOfCode2024.git"
      ],
      "metadata": {
        "id": "mx3vk1bdh5kb"
      },
      "id": "mx3vk1bdh5kb",
      "execution_count": 2,
      "outputs": []
    },
    {
      "cell_type": "code",
      "execution_count": null,
      "id": "fbe7cd11-33e7-4965-a5a1-88fee18d1877",
      "metadata": {
        "id": "fbe7cd11-33e7-4965-a5a1-88fee18d1877",
        "outputId": "3985f7b6-66d9-4328-c943-91132933007e",
        "colab": {
          "base_uri": "https://localhost:8080/"
        }
      },
      "outputs": [
        {
          "output_type": "stream",
          "name": "stdout",
          "text": [
            "Read 1000 lines\n"
          ]
        }
      ],
      "source": [
        "fin = open(\"AdventOfCode2024/advent1.txt\",'r')\n",
        "lines = fin.readlines()\n",
        "print(\"Read\",len(lines),\"lines\")\n",
        "fin.close()"
      ]
    },
    {
      "cell_type": "code",
      "execution_count": null,
      "id": "29243913-e267-4928-b654-f4ff38ab6cc5",
      "metadata": {
        "id": "29243913-e267-4928-b654-f4ff38ab6cc5"
      },
      "outputs": [],
      "source": [
        "alist = list()\n",
        "blist = list()\n",
        "for line in lines:\n",
        "    a, b = line.split()\n",
        "    alist.append(int(a))\n",
        "    blist.append(int(b))"
      ]
    },
    {
      "cell_type": "code",
      "execution_count": null,
      "id": "03b4953e-b61a-43c5-8128-a36e83ee54c7",
      "metadata": {
        "id": "03b4953e-b61a-43c5-8128-a36e83ee54c7",
        "outputId": "f1198c25-1d6a-431b-b984-b53f8bbefa9c",
        "colab": {
          "base_uri": "https://localhost:8080/"
        }
      },
      "outputs": [
        {
          "output_type": "execute_result",
          "data": {
            "text/plain": [
              "1970720"
            ]
          },
          "metadata": {},
          "execution_count": 11
        }
      ],
      "source": [
        "asort = sorted(alist, reverse=True)\n",
        "bsort = sorted(blist, reverse=True)\n",
        "difflist = [ abs(b-a) for a, b in zip(asort,bsort)]\n",
        "sum(difflist)"
      ]
    },
    {
      "cell_type": "code",
      "execution_count": null,
      "id": "e0814926-9aed-4122-aa4f-9aea6f441059",
      "metadata": {
        "id": "e0814926-9aed-4122-aa4f-9aea6f441059",
        "outputId": "b8dffd02-4a49-42f5-b366-234ca06a6a63",
        "colab": {
          "base_uri": "https://localhost:8080/"
        }
      },
      "outputs": [
        {
          "output_type": "execute_result",
          "data": {
            "text/plain": [
              "17191599"
            ]
          },
          "metadata": {},
          "execution_count": 12
        }
      ],
      "source": [
        "total = 0\n",
        "for num in alist:\n",
        "    total += num*blist.count(num)\n",
        "total"
      ]
    }
  ],
  "metadata": {
    "kernelspec": {
      "display_name": "Python 3 (ipykernel)",
      "language": "python",
      "name": "python3"
    },
    "language_info": {
      "codemirror_mode": {
        "name": "ipython",
        "version": 3
      },
      "file_extension": ".py",
      "mimetype": "text/x-python",
      "name": "python",
      "nbconvert_exporter": "python",
      "pygments_lexer": "ipython3",
      "version": "3.11.9"
    },
    "colab": {
      "provenance": [],
      "toc_visible": true,
      "include_colab_link": true
    }
  },
  "nbformat": 4,
  "nbformat_minor": 5
}