{
 "cells": [
  {
   "cell_type": "code",
   "execution_count": 5,
   "id": "fbe7cd11-33e7-4965-a5a1-88fee18d1877",
   "metadata": {},
   "outputs": [
    {
     "name": "stdout",
     "output_type": "stream",
     "text": [
      "Read 1000 lines\n"
     ]
    }
   ],
   "source": [
    "fin = open(\"Advent1.txt\",'r')\n",
    "lines = fin.readlines()\n",
    "print(\"Read\",len(lines),\"lines\")\n",
    "fin.close()"
   ]
  },
  {
   "cell_type": "code",
   "execution_count": 12,
   "id": "29243913-e267-4928-b654-f4ff38ab6cc5",
   "metadata": {},
   "outputs": [],
   "source": [
    "alist = list()\n",
    "blist = list()\n",
    "for line in lines:\n",
    "    a, b = line.split()\n",
    "    alist.append(int(a))\n",
    "    blist.append(int(b))"
   ]
  },
  {
   "cell_type": "code",
   "execution_count": 17,
   "id": "03b4953e-b61a-43c5-8128-a36e83ee54c7",
   "metadata": {},
   "outputs": [
    {
     "data": {
      "text/plain": [
       "1970720"
      ]
     },
     "execution_count": 17,
     "metadata": {},
     "output_type": "execute_result"
    }
   ],
   "source": [
    "asort = sorted(alist, reverse=True)\n",
    "bsort = sorted(blist, reverse=True)\n",
    "difflist = [ abs(b-a) for a, b in zip(asort,bsort)]\n",
    "sum(difflist)"
   ]
  },
  {
   "cell_type": "code",
   "execution_count": 18,
   "id": "e0814926-9aed-4122-aa4f-9aea6f441059",
   "metadata": {},
   "outputs": [
    {
     "data": {
      "text/plain": [
       "17191599"
      ]
     },
     "execution_count": 18,
     "metadata": {},
     "output_type": "execute_result"
    }
   ],
   "source": [
    "total = 0\n",
    "for num in alist:\n",
    "    total += num*blist.count(num)\n",
    "total"
   ]
  },
  {
   "cell_type": "code",
   "execution_count": null,
   "id": "0e6b7077-539a-4a2a-bc0e-a51c9d8bfbe3",
   "metadata": {},
   "outputs": [],
   "source": []
  }
 ],
 "metadata": {
  "kernelspec": {
   "display_name": "Python 3 (ipykernel)",
   "language": "python",
   "name": "python3"
  },
  "language_info": {
   "codemirror_mode": {
    "name": "ipython",
    "version": 3
   },
   "file_extension": ".py",
   "mimetype": "text/x-python",
   "name": "python",
   "nbconvert_exporter": "python",
   "pygments_lexer": "ipython3",
   "version": "3.11.9"
  }
 },
 "nbformat": 4,
 "nbformat_minor": 5
}
