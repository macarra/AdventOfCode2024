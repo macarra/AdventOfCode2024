{
  "cells": [
    {
      "cell_type": "markdown",
      "metadata": {
        "id": "view-in-github",
        "colab_type": "text"
      },
      "source": [
        "<a href=\"https://colab.research.google.com/github/macarra/AdventOfCode2024/blob/main/Advent2.ipynb\" target=\"_parent\"><img src=\"https://colab.research.google.com/assets/colab-badge.svg\" alt=\"Open In Colab\"/></a>"
      ]
    },
    {
      "cell_type": "code",
      "source": [
        "!git clone https://github.com/macarra/AdventOfCode2024.git"
      ],
      "metadata": {
        "colab": {
          "base_uri": "https://localhost:8080/"
        },
        "id": "H2ZufwvWjCmw",
        "outputId": "3ce750a3-1c8a-4888-ee98-5a12a593d6d0"
      },
      "id": "H2ZufwvWjCmw",
      "execution_count": 9,
      "outputs": [
        {
          "output_type": "stream",
          "name": "stdout",
          "text": [
            "fatal: destination path 'AdventOfCode2024' already exists and is not an empty directory.\n"
          ]
        }
      ]
    },
    {
      "cell_type": "code",
      "execution_count": 10,
      "id": "054ede90-103e-43e3-a75f-f155ed790333",
      "metadata": {
        "id": "054ede90-103e-43e3-a75f-f155ed790333"
      },
      "outputs": [],
      "source": [
        " def is_safe_report(report):\n",
        "    # Check if the report is either all increasing or all decreasing\n",
        "    increasing = all(report[i] < report[i + 1] for i in range(len(report) - 1))\n",
        "    decreasing = all(report[i] > report[i + 1] for i in range(len(report) - 1))\n",
        "\n",
        "    if not (increasing or decreasing):\n",
        "        return False\n",
        "\n",
        "    # Check if any two adjacent levels differ by at least one and at most three\n",
        "    for i in range(len(report) - 1):\n",
        "        if not (1 <= abs(report[i] - report[i + 1]) <= 3):\n",
        "            return False\n",
        "\n",
        "    return True\n",
        "\n",
        "def count_safe_reports(data):\n",
        "    safe_count = 0\n",
        "    for report in data:\n",
        "        levels = list(map(int, report.split()))\n",
        "        if is_safe_report(levels):\n",
        "            safe_count += 1\n",
        "    return safe_count"
      ]
    },
    {
      "cell_type": "code",
      "execution_count": 11,
      "id": "889b2ec1-3836-479c-a5a0-b31415b910ec",
      "metadata": {
        "colab": {
          "base_uri": "https://localhost:8080/"
        },
        "id": "889b2ec1-3836-479c-a5a0-b31415b910ec",
        "outputId": "1a37bdd5-c481-4515-ebf5-7f45319a1d73"
      },
      "outputs": [
        {
          "output_type": "stream",
          "name": "stdout",
          "text": [
            "Read 1000 lines\n"
          ]
        }
      ],
      "source": [
        "fin = open(\"AdventOfCode2024/advent2.txt\",'r')\n",
        "lines = fin.readlines()\n",
        "fin.close\n",
        "print(\"Read\",len(lines),\"lines\")"
      ]
    },
    {
      "cell_type": "code",
      "execution_count": null,
      "id": "3c6b69c6-88c6-4a4f-95ea-314b34a7a90f",
      "metadata": {
        "colab": {
          "base_uri": "https://localhost:8080/"
        },
        "id": "3c6b69c6-88c6-4a4f-95ea-314b34a7a90f",
        "outputId": "42c67834-193d-4502-d5e9-df0d2d0c10f2"
      },
      "outputs": [
        {
          "output_type": "execute_result",
          "data": {
            "text/plain": [
              "287"
            ]
          },
          "metadata": {},
          "execution_count": 7
        }
      ],
      "source": [
        "count_safe_reports(lines)"
      ]
    },
    {
      "cell_type": "code",
      "execution_count": null,
      "id": "e5e1d1af-ed35-48aa-81cd-c8c1274f72bf",
      "metadata": {
        "colab": {
          "base_uri": "https://localhost:8080/"
        },
        "id": "e5e1d1af-ed35-48aa-81cd-c8c1274f72bf",
        "outputId": "42cc3fa9-6136-4b0a-ff26-3817f840e043"
      },
      "outputs": [
        {
          "output_type": "execute_result",
          "data": {
            "text/plain": [
              "354"
            ]
          },
          "metadata": {},
          "execution_count": 8
        }
      ],
      "source": [
        "def is_safe_report_damp(report):\n",
        "   # print(\"report\",report)\n",
        "    if is_safe_report(report):\n",
        "        #print(\"Safe\")\n",
        "        return True\n",
        "    for x in range(0,len(report)):\n",
        "        tmpreport=report[0:x]\n",
        "        tmpreport.extend(report[x+1:])\n",
        "        #print(\"Remove\",x,\"-->\",tmpreport)\n",
        "        if is_safe_report(tmpreport):\n",
        "            #print(\"safe\")\n",
        "            return True\n",
        "   # print(\"Unsafe\")\n",
        "    return False\n",
        "\n",
        "def count_safe_reports_damp(data):\n",
        "    safe_count = 0\n",
        "    for report in data:\n",
        "        levels = list(map(int, report.split()))\n",
        "        if is_safe_report_damp(levels):\n",
        "            safe_count += 1\n",
        "    return safe_count\n",
        "\n",
        "count_safe_reports_damp(lines)"
      ]
    }
  ],
  "metadata": {
    "kernelspec": {
      "display_name": "Python 3 (ipykernel)",
      "language": "python",
      "name": "python3"
    },
    "language_info": {
      "codemirror_mode": {
        "name": "ipython",
        "version": 3
      },
      "file_extension": ".py",
      "mimetype": "text/x-python",
      "name": "python",
      "nbconvert_exporter": "python",
      "pygments_lexer": "ipython3",
      "version": "3.10.11"
    },
    "colab": {
      "provenance": [],
      "toc_visible": true,
      "include_colab_link": true
    }
  },
  "nbformat": 4,
  "nbformat_minor": 5
}