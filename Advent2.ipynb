{
 "cells": [
  {
   "cell_type": "code",
   "execution_count": 1,
   "id": "054ede90-103e-43e3-a75f-f155ed790333",
   "metadata": {},
   "outputs": [],
   "source": [
    " def is_safe_report(report):\n",
    "    # Check if the report is either all increasing or all decreasing\n",
    "    increasing = all(report[i] < report[i + 1] for i in range(len(report) - 1))\n",
    "    decreasing = all(report[i] > report[i + 1] for i in range(len(report) - 1))\n",
    "    \n",
    "    if not (increasing or decreasing):\n",
    "        return False\n",
    "    \n",
    "    # Check if any two adjacent levels differ by at least one and at most three\n",
    "    for i in range(len(report) - 1):\n",
    "        if not (1 <= abs(report[i] - report[i + 1]) <= 3):\n",
    "            return False\n",
    "    \n",
    "    return True\n",
    "\n",
    "def count_safe_reports(data):\n",
    "    safe_count = 0\n",
    "    for report in data:\n",
    "        levels = list(map(int, report.split()))\n",
    "        if is_safe_report(levels):\n",
    "            safe_count += 1\n",
    "    return safe_count"
   ]
  },
  {
   "cell_type": "code",
   "execution_count": 2,
   "id": "889b2ec1-3836-479c-a5a0-b31415b910ec",
   "metadata": {},
   "outputs": [
    {
     "name": "stdout",
     "output_type": "stream",
     "text": [
      "Read 1000 lines\n"
     ]
    }
   ],
   "source": [
    "fin = open(\"Advent2.txt\",'r')\n",
    "lines = fin.readlines()\n",
    "fin.close\n",
    "print(\"Read\",len(lines),\"lines\")"
   ]
  },
  {
   "cell_type": "code",
   "execution_count": 3,
   "id": "3c6b69c6-88c6-4a4f-95ea-314b34a7a90f",
   "metadata": {},
   "outputs": [
    {
     "data": {
      "text/plain": [
       "287"
      ]
     },
     "execution_count": 3,
     "metadata": {},
     "output_type": "execute_result"
    }
   ],
   "source": [
    "count_safe_reports(lines)"
   ]
  },
  {
   "cell_type": "code",
   "execution_count": 6,
   "id": "e5e1d1af-ed35-48aa-81cd-c8c1274f72bf",
   "metadata": {},
   "outputs": [
    {
     "data": {
      "text/plain": [
       "354"
      ]
     },
     "execution_count": 6,
     "metadata": {},
     "output_type": "execute_result"
    }
   ],
   "source": [
    "def is_safe_report_damp(report):\n",
    "   # print(\"report\",report)\n",
    "    if is_safe_report(report):\n",
    "        #print(\"Safe\")\n",
    "        return True\n",
    "    for x in range(0,len(report)):\n",
    "        tmpreport=report[0:x]\n",
    "        tmpreport.extend(report[x+1:])\n",
    "        #print(\"Remove\",x,\"-->\",tmpreport)\n",
    "        if is_safe_report(tmpreport):\n",
    "            #print(\"safe\")\n",
    "            return True\n",
    "   # print(\"Unsafe\")\n",
    "    return False\n",
    "\n",
    "def count_safe_reports_damp(data):\n",
    "    safe_count = 0\n",
    "    for report in data:\n",
    "        levels = list(map(int, report.split()))\n",
    "        if is_safe_report_damp(levels):\n",
    "            safe_count += 1\n",
    "    return safe_count\n",
    "\n",
    "count_safe_reports_damp(lines)"
   ]
  },
  {
   "cell_type": "code",
   "execution_count": null,
   "id": "1f78a911-b5da-4c6c-b4c7-a53790f7e555",
   "metadata": {},
   "outputs": [],
   "source": []
  }
 ],
 "metadata": {
  "kernelspec": {
   "display_name": "Python 3 (ipykernel)",
   "language": "python",
   "name": "python3"
  },
  "language_info": {
   "codemirror_mode": {
    "name": "ipython",
    "version": 3
   },
   "file_extension": ".py",
   "mimetype": "text/x-python",
   "name": "python",
   "nbconvert_exporter": "python",
   "pygments_lexer": "ipython3",
   "version": "3.11.9"
  }
 },
 "nbformat": 4,
 "nbformat_minor": 5
}
