{
  "nbformat": 4,
  "nbformat_minor": 0,
  "metadata": {
    "colab": {
      "provenance": [],
      "toc_visible": true,
      "authorship_tag": "ABX9TyOGB6bEVRzVeJU49YpN/CC6",
      "include_colab_link": true
    },
    "kernelspec": {
      "name": "python3",
      "display_name": "Python 3"
    },
    "language_info": {
      "name": "python"
    }
  },
  "cells": [
    {
      "cell_type": "markdown",
      "metadata": {
        "id": "view-in-github",
        "colab_type": "text"
      },
      "source": [
        "<a href=\"https://colab.research.google.com/github/macarra/AdventOfCode2024/blob/main/Advent2024.ipynb\" target=\"_parent\"><img src=\"https://colab.research.google.com/assets/colab-badge.svg\" alt=\"Open In Colab\"/></a>"
      ]
    },
    {
      "cell_type": "code",
      "execution_count": 1,
      "metadata": {
        "colab": {
          "base_uri": "https://localhost:8080/"
        },
        "id": "jum9iwjGmRWv",
        "outputId": "f1f1957e-10c2-446c-c18f-03d24d496f31"
      },
      "outputs": [
        {
          "output_type": "stream",
          "name": "stdout",
          "text": [
            "Cloning into 'AdventOfCode2024'...\n",
            "remote: Enumerating objects: 28, done.\u001b[K\n",
            "remote: Counting objects: 100% (28/28), done.\u001b[K\n",
            "remote: Compressing objects: 100% (28/28), done.\u001b[K\n",
            "remote: Total 28 (delta 14), reused 0 (delta 0), pack-reused 0 (from 0)\u001b[K\n",
            "Receiving objects: 100% (28/28), 47.20 KiB | 3.63 MiB/s, done.\n",
            "Resolving deltas: 100% (14/14), done.\n"
          ]
        }
      ],
      "source": [
        "!git clone https://github.com/macarra/AdventOfCode2024.git"
      ]
    },
    {
      "cell_type": "code",
      "source": [
        "ls AdventOfCode2024"
      ],
      "metadata": {
        "colab": {
          "base_uri": "https://localhost:8080/"
        },
        "id": "YODv-YZVmVfC",
        "outputId": "94d5a2a3-9717-4ea2-c524-99dc4b6558a5"
      },
      "execution_count": 3,
      "outputs": [
        {
          "output_type": "stream",
          "name": "stdout",
          "text": [
            "Advent1.ipynb  Advent2.ipynb  Advent3.ipynb  Advent4.ipynb  README.md\n",
            "advent1.txt    advent2.txt    advent3.txt    advent4.txt\n"
          ]
        }
      ]
    },
    {
      "cell_type": "markdown",
      "source": [
        "[Problem 1](\"AdventOfCode2024/Advent1.ipynb\")\n",
        "\n",
        "[Problem 2](\"AdventOfCode2024/Advent2.ipynb\")\n",
        "\n",
        "[Problem 3](\"AdventOfCode2024/Advent3.ipynb\")\n",
        "\n",
        "[Problem 4](\"AdventOfCode2024/Advent4.ipynb\")"
      ],
      "metadata": {
        "id": "EpHY1dfBmk1a"
      }
    },
    {
      "cell_type": "code",
      "source": [],
      "metadata": {
        "id": "T10LgDPBmu04"
      },
      "execution_count": null,
      "outputs": []
    }
  ]
}