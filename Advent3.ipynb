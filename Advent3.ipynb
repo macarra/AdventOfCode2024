{
 "cells": [
  {
   "cell_type": "code",
   "execution_count": 1,
   "id": "1389e873-7e42-4834-850d-0bbd0bd03818",
   "metadata": {},
   "outputs": [
    {
     "name": "stdout",
     "output_type": "stream",
     "text": [
      "Read 17962 chars\n"
     ]
    }
   ],
   "source": [
    "fin = open(\"Advent3.txt\",'r')\n",
    "text = fin.read()\n",
    "print(\"Read\",len(text),\"chars\")\n",
    "fin.close()"
   ]
  },
  {
   "cell_type": "code",
   "execution_count": 9,
   "id": "c5747165-ede0-4019-8dbe-96beef332255",
   "metadata": {},
   "outputs": [
    {
     "data": {
      "text/plain": [
       "174960292"
      ]
     },
     "execution_count": 9,
     "metadata": {},
     "output_type": "execute_result"
    }
   ],
   "source": [
    "def mulText(text):\n",
    "    mult = text.split(\"mul\")\n",
    "\n",
    "    mulstarts = list()\n",
    "    for amul in mult:\n",
    "        if amul.startswith(\"(\"):\n",
    "            mulstarts.append(amul)\n",
    "\n",
    "    mulends= list()\n",
    "    for mulstart in mulstarts:\n",
    "        if \")\" in mulstart:\n",
    "            mulends.append(mulstart.split(\")\")[0][1:])\n",
    "    for index, end in enumerate(mulends):\n",
    "        if \",\" not in end:\n",
    "            mulends.remove(end)\n",
    "        else:\n",
    "            part2 = end.split(\",\")[1]\n",
    "            if len(part2) > 3:\n",
    "                mulends.remove(end)\n",
    "\n",
    "#for index,end in enumerate(mulends):\n",
    "#    print(end,\"   \",end=\"\")\n",
    "#    if index%10==0:\n",
    "#        print()\n",
    "\n",
    "    total = 0\n",
    "    for end in mulends:\n",
    "        anum, bnum = end.split(\",\")\n",
    "        try:\n",
    "            total += int(anum)*int(bnum)\n",
    "        except:\n",
    "            pass\n",
    "    return total\n",
    "mulText(text)"
   ]
  },
  {
   "cell_type": "markdown",
   "id": "de8ec7f4-3cd3-4e05-89cd-369de4d3879e",
   "metadata": {},
   "source": [
    "### Part 2"
   ]
  },
  {
   "cell_type": "code",
   "execution_count": 27,
   "id": "4ae46766-de64-4423-a601-17cf7e22bce6",
   "metadata": {},
   "outputs": [
    {
     "data": {
      "text/plain": [
       "56275602"
      ]
     },
     "execution_count": 27,
     "metadata": {},
     "output_type": "execute_result"
    }
   ],
   "source": [
    "text[0:100]\n",
    "d = text.split(\"don't()\")\n",
    "d[0]\n",
    "newtext = d[0]\n",
    "for index, dpart in enumerate(d):\n",
    "    if \"do()\" in dpart:\n",
    "        #print(index, dpart.count(\"do()\"), \"do's\")\n",
    "        try:\n",
    "            dolist = dpart.split(\"do()\")\n",
    "            newtext+=\"\".join(dolist[1:])\n",
    "        except:\n",
    "            print(\"Error at\", index, dpart)\n",
    "newtext\n",
    "mulText(newtext)"
   ]
  }
 ],
 "metadata": {
  "kernelspec": {
   "display_name": "Python 3 (ipykernel)",
   "language": "python",
   "name": "python3"
  },
  "language_info": {
   "codemirror_mode": {
    "name": "ipython",
    "version": 3
   },
   "file_extension": ".py",
   "mimetype": "text/x-python",
   "name": "python",
   "nbconvert_exporter": "python",
   "pygments_lexer": "ipython3",
   "version": "3.11.9"
  }
 },
 "nbformat": 4,
 "nbformat_minor": 5
}
