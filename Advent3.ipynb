{
  "cells": [
    {
      "cell_type": "markdown",
      "metadata": {
        "id": "view-in-github",
        "colab_type": "text"
      },
      "source": [
        "<a href=\"https://colab.research.google.com/github/macarra/AdventOfCode2024/blob/main/Advent3.ipynb\" target=\"_parent\"><img src=\"https://colab.research.google.com/assets/colab-badge.svg\" alt=\"Open In Colab\"/></a>"
      ]
    },
    {
      "cell_type": "code",
      "source": [
        "!git clone https://github.com/macarra/AdventOfCode2024.git"
      ],
      "metadata": {
        "colab": {
          "base_uri": "https://localhost:8080/"
        },
        "id": "7U_l-U5LjkbJ",
        "outputId": "985070a0-ce9c-4f6e-f481-d9dcfa7487c9"
      },
      "id": "7U_l-U5LjkbJ",
      "execution_count": 1,
      "outputs": [
        {
          "output_type": "stream",
          "name": "stdout",
          "text": [
            "Cloning into 'AdventOfCode2024'...\n",
            "remote: Enumerating objects: 19, done.\u001b[K\n",
            "remote: Counting objects: 100% (19/19), done.\u001b[K\n",
            "remote: Compressing objects: 100% (19/19), done.\u001b[K\n",
            "remote: Total 19 (delta 5), reused 0 (delta 0), pack-reused 0 (from 0)\u001b[K\n",
            "Receiving objects: 100% (19/19), 43.46 KiB | 1.50 MiB/s, done.\n",
            "Resolving deltas: 100% (5/5), done.\n"
          ]
        }
      ]
    },
    {
      "cell_type": "code",
      "execution_count": 2,
      "id": "1389e873-7e42-4834-850d-0bbd0bd03818",
      "metadata": {
        "colab": {
          "base_uri": "https://localhost:8080/"
        },
        "id": "1389e873-7e42-4834-850d-0bbd0bd03818",
        "outputId": "580226ac-a3f2-4a6c-f14f-d4a0a01d1fc7"
      },
      "outputs": [
        {
          "output_type": "stream",
          "name": "stdout",
          "text": [
            "Read 17962 chars\n"
          ]
        }
      ],
      "source": [
        "fin = open(\"AdventOfCode2024/advent3.txt\",'r')\n",
        "text = fin.read()\n",
        "print(\"Read\",len(text),\"chars\")\n",
        "fin.close()"
      ]
    },
    {
      "cell_type": "code",
      "execution_count": 3,
      "id": "c1a11375-2868-495c-a086-f6def13b2ea0",
      "metadata": {
        "id": "c1a11375-2868-495c-a086-f6def13b2ea0"
      },
      "outputs": [],
      "source": [
        "mult = text.split(\"mul\")"
      ]
    },
    {
      "cell_type": "code",
      "execution_count": 4,
      "id": "23ccc4cb-ade9-4b40-b5eb-a774c257f92c",
      "metadata": {
        "id": "23ccc4cb-ade9-4b40-b5eb-a774c257f92c"
      },
      "outputs": [],
      "source": [
        "mulstarts = list()\n",
        "for amul in mult:\n",
        "    if amul.startswith(\"(\"):\n",
        "        mulstarts.append(amul)"
      ]
    },
    {
      "cell_type": "code",
      "execution_count": 5,
      "id": "079c2907-8110-45d1-8106-6322f337061b",
      "metadata": {
        "id": "079c2907-8110-45d1-8106-6322f337061b"
      },
      "outputs": [],
      "source": [
        "mulends= list()\n",
        "for mulstart in mulstarts:\n",
        "    if \")\" in mulstart:\n",
        "        mulends.append(mulstart.split(\")\")[0][1:])\n",
        "for index, end in enumerate(mulends):\n",
        "    if \",\" not in end:\n",
        "        mulends.remove(end)\n",
        "    else:\n",
        "        part2 = end.split(\",\")[1]\n",
        "        if len(part2) > 3:\n",
        "            mulends.remove(end)\n",
        "\n",
        "#for index,end in enumerate(mulends):\n",
        "#    print(end,\"   \",end=\"\")\n",
        "#    if index%10==0:\n",
        "#        print()"
      ]
    },
    {
      "cell_type": "code",
      "source": [
        "def mulText(text):\n",
        "    mult = text.split(\"mul\")\n",
        "\n",
        "    mulstarts = list()\n",
        "    for amul in mult:\n",
        "        if amul.startswith(\"(\"):\n",
        "            mulstarts.append(amul)\n",
        "\n",
        "    mulends= list()\n",
        "    for mulstart in mulstarts:\n",
        "        if \")\" in mulstart:\n",
        "            mulends.append(mulstart.split(\")\")[0][1:])\n",
        "    for index, end in enumerate(mulends):\n",
        "        if \",\" not in end:\n",
        "            mulends.remove(end)\n",
        "        else:\n",
        "            part2 = end.split(\",\")[1]\n",
        "            if len(part2) > 3:\n",
        "                mulends.remove(end)\n",
        "\n",
        "#for index,end in enumerate(mulends):\n",
        "#    print(end,\"   \",end=\"\")\n",
        "#    if index%10==0:\n",
        "#        print()\n",
        "\n",
        "    total = 0\n",
        "    for end in mulends:\n",
        "        anum, bnum = end.split(\",\")\n",
        "        try:\n",
        "            total += int(anum)*int(bnum)\n",
        "        except:\n",
        "            pass\n",
        "    return total\n",
        "mulText(text)"
      ],
      "metadata": {
        "colab": {
          "base_uri": "https://localhost:8080/"
        },
        "id": "Y9PrtZmVkI6e",
        "outputId": "a053ebf4-3b39-471c-ade8-86a3cf6fcbd8"
      },
      "id": "Y9PrtZmVkI6e",
      "execution_count": 8,
      "outputs": [
        {
          "output_type": "execute_result",
          "data": {
            "text/plain": [
              "174960292"
            ]
          },
          "metadata": {},
          "execution_count": 8
        }
      ]
    },
    {
      "cell_type": "code",
      "execution_count": 9,
      "id": "4a7e0c90-918b-4bc0-8cd9-1c828ccc4fbe",
      "metadata": {
        "colab": {
          "base_uri": "https://localhost:8080/"
        },
        "id": "4a7e0c90-918b-4bc0-8cd9-1c828ccc4fbe",
        "outputId": "647a3b84-99c4-4da7-bbd9-dcccaa577fc5"
      },
      "outputs": [
        {
          "output_type": "execute_result",
          "data": {
            "text/plain": [
              "174960292"
            ]
          },
          "metadata": {},
          "execution_count": 9
        }
      ],
      "source": [
        "total = 0\n",
        "for end in mulends:\n",
        "    anum, bnum = end.split(\",\")\n",
        "    try:\n",
        "        total += int(anum)*int(bnum)\n",
        "    except:\n",
        "        pass\n",
        "total"
      ]
    },
    {
      "cell_type": "code",
      "execution_count": 10,
      "id": "a96731f1-62ae-4ffa-a9de-062c83976157",
      "metadata": {
        "colab": {
          "base_uri": "https://localhost:8080/"
        },
        "id": "a96731f1-62ae-4ffa-a9de-062c83976157",
        "outputId": "0ab29970-07e3-44ae-da1b-18852500caef"
      },
      "outputs": [
        {
          "output_type": "execute_result",
          "data": {
            "text/plain": [
              "56275602"
            ]
          },
          "metadata": {},
          "execution_count": 10
        }
      ],
      "source": [
        "d = text.split(\"don't()\")\n",
        "d[0]\n",
        "newtext = d[0]\n",
        "for index, dpart in enumerate(d):\n",
        "    if \"do()\" in dpart:\n",
        "        #print(index, dpart.count(\"do()\"), \"do's\")\n",
        "        try:\n",
        "            dolist = dpart.split(\"do()\")\n",
        "            newtext+=\"\".join(dolist[1:])\n",
        "        except:\n",
        "            print(\"Error at\", index, dpart)\n",
        "newtext\n",
        "mulText(newtext)"
      ]
    }
  ],
  "metadata": {
    "kernelspec": {
      "display_name": "Python 3 (ipykernel)",
      "language": "python",
      "name": "python3"
    },
    "language_info": {
      "codemirror_mode": {
        "name": "ipython",
        "version": 3
      },
      "file_extension": ".py",
      "mimetype": "text/x-python",
      "name": "python",
      "nbconvert_exporter": "python",
      "pygments_lexer": "ipython3",
      "version": "3.10.11"
    },
    "colab": {
      "provenance": [],
      "toc_visible": true,
      "include_colab_link": true
    }
  },
  "nbformat": 4,
  "nbformat_minor": 5
}