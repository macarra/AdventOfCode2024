{
  "cells": [
    {
      "cell_type": "markdown",
      "metadata": {
        "id": "view-in-github",
        "colab_type": "text"
      },
      "source": [
        "<a href=\"https://colab.research.google.com/github/macarra/AdventOfCode2024/blob/main/Advent4.ipynb\" target=\"_parent\"><img src=\"https://colab.research.google.com/assets/colab-badge.svg\" alt=\"Open In Colab\"/></a>"
      ]
    },
    {
      "cell_type": "code",
      "source": [
        "import os\n",
        "if not os.path.exists(\"AdventOfCode2024\"):\n",
        "    !git clone https://github.com/macarra/AdventOfCode2024.git"
      ],
      "metadata": {
        "id": "gE3OQmKmk8MT"
      },
      "id": "gE3OQmKmk8MT",
      "execution_count": 2,
      "outputs": []
    },
    {
      "cell_type": "code",
      "execution_count": 3,
      "id": "1389e873-7e42-4834-850d-0bbd0bd03818",
      "metadata": {
        "colab": {
          "base_uri": "https://localhost:8080/"
        },
        "id": "1389e873-7e42-4834-850d-0bbd0bd03818",
        "outputId": "b7e51e6e-a120-4c93-83c7-3645694cefc6"
      },
      "outputs": [
        {
          "output_type": "stream",
          "name": "stdout",
          "text": [
            "Read 19740 chars\n"
          ]
        }
      ],
      "source": [
        "fin = open(\"AdventOfCode2024/advent4.txt\",'r')\n",
        "text = fin.read()\n",
        "print(\"Read\",len(text),\"chars\")\n",
        "fin.close()"
      ]
    },
    {
      "cell_type": "code",
      "execution_count": 20,
      "id": "bdf1a005-d52a-49d1-92c0-5de4531a63b1",
      "metadata": {
        "colab": {
          "base_uri": "https://localhost:8080/"
        },
        "id": "bdf1a005-d52a-49d1-92c0-5de4531a63b1",
        "outputId": "38cb88b5-4354-4203-c027-5dca1f79ff21"
      },
      "outputs": [
        {
          "output_type": "execute_result",
          "data": {
            "text/plain": [
              "['XMASXSASXSXSSMSSXMXSMAMSAMXMMSMMSAMXAASXMSSMMSXMXSASMSSMMMMSSMMSSSMSXAXXMXMAASXXSSMSAMXXMASASAMXMASXSSMMMMXMASAMXXMAMMSSSMSMMSSXMXMASMASXMAS']"
            ]
          },
          "metadata": {},
          "execution_count": 20
        }
      ],
      "source": [
        "lines = text.splitlines()\n",
        "transpose = list()\n",
        "for index, line in enumerate(lines):\n",
        "    transpose.append(\"\".join([line[index] for line in lines]))"
      ]
    },
    {
      "cell_type": "code",
      "execution_count": 22,
      "id": "9942f67e-b250-46b6-8c55-b6d3de285be2",
      "metadata": {
        "id": "9942f67e-b250-46b6-8c55-b6d3de285be2",
        "colab": {
          "base_uri": "https://localhost:8080/"
        },
        "outputId": "a7005c95-bf2b-4b14-b443-3e88f4054a0b"
      },
      "outputs": [
        {
          "output_type": "stream",
          "name": "stdout",
          "text": [
            "413\n"
          ]
        }
      ],
      "source": [
        "left = text.count('SAMX')\n",
        "right = text.count('XMAS')\n",
        "tright = transpose.count('XMAS')\n",
        "tleft = transpose.count('SAMX')\n",
        "print(left+right+tright+tleft)"
      ]
    },
    {
      "cell_type": "code",
      "source": [],
      "metadata": {
        "id": "9_Ur2eLIvPJq"
      },
      "id": "9_Ur2eLIvPJq",
      "execution_count": null,
      "outputs": []
    }
  ],
  "metadata": {
    "kernelspec": {
      "display_name": "Python 3 (ipykernel)",
      "language": "python",
      "name": "python3"
    },
    "language_info": {
      "codemirror_mode": {
        "name": "ipython",
        "version": 3
      },
      "file_extension": ".py",
      "mimetype": "text/x-python",
      "name": "python",
      "nbconvert_exporter": "python",
      "pygments_lexer": "ipython3",
      "version": "3.11.9"
    },
    "colab": {
      "provenance": [],
      "toc_visible": true,
      "include_colab_link": true
    }
  },
  "nbformat": 4,
  "nbformat_minor": 5
}