{
  "cells": [
    {
      "cell_type": "markdown",
      "metadata": {
        "id": "view-in-github",
        "colab_type": "text"
      },
      "source": [
        "<a href=\"https://colab.research.google.com/github/macarra/AdventOfCode2024/blob/main/Advent4.ipynb\" target=\"_parent\"><img src=\"https://colab.research.google.com/assets/colab-badge.svg\" alt=\"Open In Colab\"/></a>"
      ]
    },
    {
      "cell_type": "code",
      "source": [
        "import os\n",
        "if not os.path.exists(\"AdventOfCode2024\"):\n",
        "    !git clone https://github.com/macarra/AdventOfCode2024.git"
      ],
      "metadata": {
        "id": "gE3OQmKmk8MT"
      },
      "id": "gE3OQmKmk8MT",
      "execution_count": 7,
      "outputs": []
    },
    {
      "cell_type": "code",
      "execution_count": 2,
      "id": "1389e873-7e42-4834-850d-0bbd0bd03818",
      "metadata": {
        "colab": {
          "base_uri": "https://localhost:8080/"
        },
        "id": "1389e873-7e42-4834-850d-0bbd0bd03818",
        "outputId": "97e7f601-1fe3-445d-9e6a-fc568997f3f6"
      },
      "outputs": [
        {
          "output_type": "stream",
          "name": "stdout",
          "text": [
            "Read 19740 chars\n"
          ]
        }
      ],
      "source": [
        "fin = open(\"AdventOfCode2024/advent4.txt\",'r')\n",
        "text = fin.read()\n",
        "print(\"Read\",len(text),\"chars\")\n",
        "fin.close()"
      ]
    },
    {
      "cell_type": "code",
      "execution_count": 3,
      "id": "bdf1a005-d52a-49d1-92c0-5de4531a63b1",
      "metadata": {
        "colab": {
          "base_uri": "https://localhost:8080/"
        },
        "id": "bdf1a005-d52a-49d1-92c0-5de4531a63b1",
        "outputId": "7c8aa5ef-f434-4f6d-efe2-58553dfdfbd5"
      },
      "outputs": [
        {
          "output_type": "stream",
          "name": "stdout",
          "text": [
            "140\n"
          ]
        }
      ],
      "source": [
        "lines = text.splitlines()\n",
        "print(len(lines))\n",
        "transpose = list()\n",
        "for index, line in enumerate(lines):\n",
        "    transpose.append(\"\".join([line[index] for line in lines]))"
      ]
    },
    {
      "cell_type": "code",
      "source": [
        "for line in lines[0:10]:\n",
        "  print(line[0:10])"
      ],
      "metadata": {
        "colab": {
          "base_uri": "https://localhost:8080/"
        },
        "id": "iTfwiERpEPBI",
        "outputId": "94af1212-430f-4868-d64a-fadf8f8557c2"
      },
      "id": "iTfwiERpEPBI",
      "execution_count": 8,
      "outputs": [
        {
          "output_type": "stream",
          "name": "stdout",
          "text": [
            "XMXXMSSSMS\n",
            "MSSMMAAXAM\n",
            "AAAXMMXMSM\n",
            "SSMMXSAAXM\n",
            "XAAAAMMSMS\n",
            "SXMMSXAXAS\n",
            "AAXAXMSMAM\n",
            "SSMMSMAMSM\n",
            "XMAMAXMXXA\n",
            "SMASXSXASA\n"
          ]
        }
      ]
    },
    {
      "cell_type": "code",
      "source": [
        "for tline in transpose[0:10]:\n",
        "  print(tline[0:10])"
      ],
      "metadata": {
        "colab": {
          "base_uri": "https://localhost:8080/"
        },
        "id": "l9pd7PHyEACh",
        "outputId": "8bbdf844-d275-4809-fa8b-2595d5c1a9c6"
      },
      "id": "l9pd7PHyEACh",
      "execution_count": 6,
      "outputs": [
        {
          "output_type": "stream",
          "name": "stdout",
          "text": [
            "XMASXSASXS\n",
            "MSASAXASMM\n",
            "XSAMAMXMAA\n",
            "XMXMAMAMMS\n",
            "MMMXASXSAX\n",
            "SAMSMXMMXS\n",
            "SAXAMASAMX\n",
            "SXMASXMMXA\n",
            "MASXMAASXS\n",
            "SMMMSSMMAA\n"
          ]
        }
      ]
    },
    {
      "cell_type": "code",
      "source": [
        "diaglist = list()\n",
        "for index in range(len(lines)):\n",
        "    rowindex = index\n",
        "    colindex = 0\n",
        "    diagonal = \"\"\n",
        "    while rowindex >=0:\n",
        "        diagonal += lines[rowindex][colindex]\n",
        "        rowindex -= 1\n",
        "        colindex += 1\n",
        "    diaglist.append(diagonal)\n",
        "\n",
        "diagtext = \"\\n\".join(diaglist)\n",
        "dleft = diagtext.count(\"XMAS\")\n",
        "dright = diagtext.count(\"SAMX\")\n",
        "print(dleft, dright, dleft+dright)"
      ],
      "metadata": {
        "colab": {
          "base_uri": "https://localhost:8080/"
        },
        "id": "9_Ur2eLIvPJq",
        "outputId": "5335c5af-b1bf-446a-a279-9a99f8f48cae"
      },
      "id": "9_Ur2eLIvPJq",
      "execution_count": 12,
      "outputs": [
        {
          "output_type": "stream",
          "name": "stdout",
          "text": [
            "214 178 392\n"
          ]
        }
      ]
    },
    {
      "cell_type": "code",
      "source": [
        "for diag in diaglist[0:10]:\n",
        "    print(diag[0:10])"
      ],
      "metadata": {
        "colab": {
          "base_uri": "https://localhost:8080/"
        },
        "id": "bmSHxnq3EaUW",
        "outputId": "2efd9816-dd64-46bc-ddfa-32986d195a4d"
      },
      "id": "bmSHxnq3EaUW",
      "execution_count": 13,
      "outputs": [
        {
          "output_type": "stream",
          "name": "stdout",
          "text": [
            "X\n",
            "MM\n",
            "ASX\n",
            "SASX\n",
            "XSAMM\n",
            "SAMXMS\n",
            "AXAMMAS\n",
            "SAMAXMAS\n",
            "XSXMASXXM\n",
            "SMMASMAMAS\n"
          ]
        }
      ]
    },
    {
      "cell_type": "code",
      "source": [
        "lines = transpose\n",
        "tdiaglist = list()\n",
        "for index in range(len(lines)):\n",
        "    rowindex = index\n",
        "    colindex = len(lines[index])-1\n",
        "    diagonal = \"\"\n",
        "    while colindex >=0:\n",
        "        #print(rowindex,colindex)\n",
        "        try:\n",
        "            diagonal += lines[rowindex][colindex]\n",
        "        except:\n",
        "          pass\n",
        "        rowindex += 1\n",
        "        colindex -= 1\n",
        "    tdiaglist.append(diagonal)\n",
        "\n",
        "tdiagtext = \"\\n\".join(tdiaglist)\n",
        "tdleft = tdiagtext.count(\"XMAS\")\n",
        "tdright = tdiagtext.count(\"SAMX\")\n",
        "print(tdleft, tdright, tdleft+tdright)"
      ],
      "metadata": {
        "colab": {
          "base_uri": "https://localhost:8080/"
        },
        "id": "8P08XiFywN0P",
        "outputId": "3d1f9485-0125-4767-f563-b99d900750f5"
      },
      "id": "8P08XiFywN0P",
      "execution_count": 24,
      "outputs": [
        {
          "output_type": "stream",
          "name": "stdout",
          "text": [
            "234 205 439\n"
          ]
        }
      ]
    },
    {
      "cell_type": "code",
      "source": [
        "for tdiag in tdiaglist[0:10]:\n",
        "    print(tdiag[0:10])"
      ],
      "metadata": {
        "colab": {
          "base_uri": "https://localhost:8080/"
        },
        "id": "Yscxtu7KFZJn",
        "outputId": "71ffbdc3-92da-4bf9-a3df-667e7eb0c027"
      },
      "id": "Yscxtu7KFZJn",
      "execution_count": 25,
      "outputs": [
        {
          "output_type": "stream",
          "name": "stdout",
          "text": [
            "SAMXSXMASA\n",
            "SXMASAMMMM\n",
            "SASAMXMASA\n",
            "SASMSXMASA\n",
            "SAMAMXMAMA\n",
            "SAMAMSMAXM\n",
            "MXMMSAMMSM\n",
            "MXSMASMSAM\n",
            "XSAMSAMXMX\n",
            "MMAMMSAMXM\n"
          ]
        }
      ]
    },
    {
      "cell_type": "code",
      "source": [
        "print(left+right+tleft+tright+dleft+dright+tdleft+tdright)"
      ],
      "metadata": {
        "colab": {
          "base_uri": "https://localhost:8080/"
        },
        "id": "vDz6-8bjxLPl",
        "outputId": "40573580-35a0-4e68-a0c3-457d4ae0c386"
      },
      "id": "vDz6-8bjxLPl",
      "execution_count": null,
      "outputs": [
        {
          "output_type": "stream",
          "name": "stdout",
          "text": [
            "843\n"
          ]
        }
      ]
    }
  ],
  "metadata": {
    "kernelspec": {
      "display_name": "Python 3 (ipykernel)",
      "language": "python",
      "name": "python3"
    },
    "language_info": {
      "codemirror_mode": {
        "name": "ipython",
        "version": 3
      },
      "file_extension": ".py",
      "mimetype": "text/x-python",
      "name": "python",
      "nbconvert_exporter": "python",
      "pygments_lexer": "ipython3",
      "version": "3.11.9"
    },
    "colab": {
      "provenance": [],
      "toc_visible": true,
      "include_colab_link": true
    }
  },
  "nbformat": 4,
  "nbformat_minor": 5
}