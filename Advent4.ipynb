{
  "cells": [
    {
      "cell_type": "markdown",
      "metadata": {
        "id": "view-in-github",
        "colab_type": "text"
      },
      "source": [
        "<a href=\"https://colab.research.google.com/github/macarra/AdventOfCode2024/blob/main/Advent4.ipynb\" target=\"_parent\"><img src=\"https://colab.research.google.com/assets/colab-badge.svg\" alt=\"Open In Colab\"/></a>"
      ]
    },
    {
      "cell_type": "code",
      "source": [
        "import os\n",
        "if not os.path.exists(\"AdventOfCode2024\"):\n",
        "    !git clone https://github.com/macarra/AdventOfCode2024.git"
      ],
      "metadata": {
        "id": "gE3OQmKmk8MT"
      },
      "id": "gE3OQmKmk8MT",
      "execution_count": 1,
      "outputs": []
    },
    {
      "cell_type": "code",
      "execution_count": 2,
      "id": "1389e873-7e42-4834-850d-0bbd0bd03818",
      "metadata": {
        "colab": {
          "base_uri": "https://localhost:8080/"
        },
        "id": "1389e873-7e42-4834-850d-0bbd0bd03818",
        "outputId": "7642d6d8-f5d9-41e6-dda8-db8d46965ffe"
      },
      "outputs": [
        {
          "output_type": "stream",
          "name": "stdout",
          "text": [
            "Read 19740 chars\n"
          ]
        }
      ],
      "source": [
        "fin = open(\"AdventOfCode2024/advent4.txt\",'r')\n",
        "text = fin.read()\n",
        "print(\"Read\",len(text),\"chars\")\n",
        "fin.close()"
      ]
    },
    {
      "cell_type": "code",
      "execution_count": 3,
      "id": "bdf1a005-d52a-49d1-92c0-5de4531a63b1",
      "metadata": {
        "colab": {
          "base_uri": "https://localhost:8080/"
        },
        "id": "bdf1a005-d52a-49d1-92c0-5de4531a63b1",
        "outputId": "f737c3ed-0eb0-47e2-8175-ae7aa8cb8cd1"
      },
      "outputs": [
        {
          "output_type": "stream",
          "name": "stdout",
          "text": [
            "140\n"
          ]
        }
      ],
      "source": [
        "lines = text.splitlines()\n",
        "print(len(lines))\n",
        "transpose = list()\n",
        "for index, line in enumerate(lines):\n",
        "    transpose.append(\"\".join([line[index] for line in lines]))"
      ]
    },
    {
      "cell_type": "code",
      "execution_count": 4,
      "id": "9942f67e-b250-46b6-8c55-b6d3de285be2",
      "metadata": {
        "id": "9942f67e-b250-46b6-8c55-b6d3de285be2",
        "colab": {
          "base_uri": "https://localhost:8080/"
        },
        "outputId": "9dcf5171-14b3-48c6-e574-821c41ed71f9"
      },
      "outputs": [
        {
          "output_type": "stream",
          "name": "stdout",
          "text": [
            "413\n"
          ]
        }
      ],
      "source": [
        "left = text.count('SAMX')\n",
        "right = text.count('XMAS')\n",
        "tright = transpose.count('XMAS')\n",
        "tleft = transpose.count('SAMX')\n",
        "print(left+right+tright+tleft)"
      ]
    },
    {
      "cell_type": "code",
      "source": [
        "diaglist = list()\n",
        "for index in range(len(lines)):\n",
        "    rowindex = index\n",
        "    colindex = 0\n",
        "    diagonal = \"\"\n",
        "    while rowindex >=0:\n",
        "        diagonal += lines[index][colindex]\n",
        "        rowindex -= 1\n",
        "        colindex += 1\n",
        "    diaglist.append(diagonal)\n",
        "\n",
        "diagtext = \"\\n\".join(diaglist)\n",
        "dleft = diagtext.count(\"XMAS\")\n",
        "dright = diagtext.count(\"SAMX\")\n",
        "print(dleft, dright, dleft+dright)"
      ],
      "metadata": {
        "colab": {
          "base_uri": "https://localhost:8080/"
        },
        "id": "9_Ur2eLIvPJq",
        "outputId": "ba562419-8471-4a12-e178-11cfc29103bc"
      },
      "id": "9_Ur2eLIvPJq",
      "execution_count": 5,
      "outputs": [
        {
          "output_type": "stream",
          "name": "stdout",
          "text": [
            "90 103 193\n"
          ]
        }
      ]
    },
    {
      "cell_type": "code",
      "source": [
        "lines = transpose\n",
        "tdiaglist = list()\n",
        "for index in range(len(lines)):\n",
        "    rowindex = index\n",
        "    colindex = 0\n",
        "    diagonal = \"\"\n",
        "    while rowindex >=0:\n",
        "        diagonal += lines[index][colindex]\n",
        "        rowindex -= 1\n",
        "        colindex += 1\n",
        "    tdiaglist.append(diagonal)\n",
        "\n",
        "tdiagtext = \"\\n\".join(tdiaglist)\n",
        "tdleft = tdiagtext.count(\"XMAS\")\n",
        "tdright = tdiagtext.count(\"SAMX\")\n",
        "print(tdleft, tdright, tdleft+tdright)"
      ],
      "metadata": {
        "colab": {
          "base_uri": "https://localhost:8080/"
        },
        "id": "8P08XiFywN0P",
        "outputId": "58db9f34-c8d2-408b-ec89-bd0255be4569"
      },
      "id": "8P08XiFywN0P",
      "execution_count": 6,
      "outputs": [
        {
          "output_type": "stream",
          "name": "stdout",
          "text": [
            "113 124 237\n"
          ]
        }
      ]
    },
    {
      "cell_type": "code",
      "source": [
        "print(left+right+tleft+tright+dleft+dright+tdleft+tdright)"
      ],
      "metadata": {
        "colab": {
          "base_uri": "https://localhost:8080/"
        },
        "id": "vDz6-8bjxLPl",
        "outputId": "40573580-35a0-4e68-a0c3-457d4ae0c386"
      },
      "id": "vDz6-8bjxLPl",
      "execution_count": 7,
      "outputs": [
        {
          "output_type": "stream",
          "name": "stdout",
          "text": [
            "843\n"
          ]
        }
      ]
    }
  ],
  "metadata": {
    "kernelspec": {
      "display_name": "Python 3 (ipykernel)",
      "language": "python",
      "name": "python3"
    },
    "language_info": {
      "codemirror_mode": {
        "name": "ipython",
        "version": 3
      },
      "file_extension": ".py",
      "mimetype": "text/x-python",
      "name": "python",
      "nbconvert_exporter": "python",
      "pygments_lexer": "ipython3",
      "version": "3.11.9"
    },
    "colab": {
      "provenance": [],
      "toc_visible": true,
      "include_colab_link": true
    }
  },
  "nbformat": 4,
  "nbformat_minor": 5
}